{
  "nbformat": 4,
  "nbformat_minor": 0,
  "metadata": {
    "colab": {
      "provenance": [],
      "authorship_tag": "ABX9TyMl/x8GwvDg4WWWLxLMO4ZU",
      "include_colab_link": true
    },
    "kernelspec": {
      "name": "python3",
      "display_name": "Python 3"
    },
    "language_info": {
      "name": "python"
    }
  },
  "cells": [
    {
      "cell_type": "markdown",
      "metadata": {
        "id": "view-in-github",
        "colab_type": "text"
      },
      "source": [
        "<a href=\"https://colab.research.google.com/github/ankitkr47/python/blob/main/29.ipynb\" target=\"_parent\"><img src=\"https://colab.research.google.com/assets/colab-badge.svg\" alt=\"Open In Colab\"/></a>"
      ]
    },
    {
      "cell_type": "markdown",
      "source": [
        "# Mean"
      ],
      "metadata": {
        "id": "4xnelZr3815I"
      }
    },
    {
      "cell_type": "code",
      "source": [
        "import numpy as np\n",
        "\n",
        "arr = [99,86,87,88,111,86,103,87,94,78,77,85,86]\n",
        "\n",
        "x = np.mean(arr)\n",
        "\n",
        "print(x)"
      ],
      "metadata": {
        "colab": {
          "base_uri": "https://localhost:8080/"
        },
        "id": "z1iLsgcR8zJh",
        "outputId": "93f03250-e42e-47ca-e513-532bfb472e30"
      },
      "execution_count": null,
      "outputs": [
        {
          "output_type": "stream",
          "name": "stdout",
          "text": [
            "89.76923076923077\n"
          ]
        }
      ]
    },
    {
      "cell_type": "markdown",
      "source": [
        "# Median"
      ],
      "metadata": {
        "id": "8-iyz8Xr7-Fi"
      }
    },
    {
      "cell_type": "code",
      "source": [
        "y = np.median(arr)\n",
        "print(y)"
      ],
      "metadata": {
        "colab": {
          "base_uri": "https://localhost:8080/"
        },
        "id": "fllDMWvF8Dd-",
        "outputId": "3574266c-a263-43c6-9105-160672ab7458"
      },
      "execution_count": null,
      "outputs": [
        {
          "output_type": "stream",
          "name": "stdout",
          "text": [
            "87.0\n"
          ]
        }
      ]
    },
    {
      "cell_type": "markdown",
      "source": [
        "# Mode\n"
      ],
      "metadata": {
        "id": "SpX7uVDa9LDe"
      }
    },
    {
      "cell_type": "code",
      "source": [
        "from collections import Counter\n",
        "numb = [2, 3, 4, 5, 7, 2]\n",
        "no = len(numb)\n",
        "val = Counter(numb)\n",
        "findMode = dict(val)\n",
        "mode = [i for i, v in findMode.items() if v == max(list(val.values()))]  \n",
        "if len(mode) == no:\n",
        "    findMode = \"The group of number do not have any mode\"\n",
        "else:\n",
        "    findMode = \"The mode of a number is / are: \" + ', '.join(map(str, mode))\n",
        "print(findMode)"
      ],
      "metadata": {
        "colab": {
          "base_uri": "https://localhost:8080/"
        },
        "id": "vAxW-oXl9P2q",
        "outputId": "2f934f44-5edb-487a-8a6b-324d7fbe3342"
      },
      "execution_count": null,
      "outputs": [
        {
          "output_type": "stream",
          "name": "stdout",
          "text": [
            "The mode of a number is / are: 2\n"
          ]
        }
      ]
    },
    {
      "cell_type": "code",
      "source": [
        "from scipy import stats\n",
        "\n",
        "speed = [99,86,87,88,111,86,103,87,94,78,77,85,86]\n",
        "\n",
        "z = stats.mode(speed)\n",
        "\n",
        "print(z)"
      ],
      "metadata": {
        "colab": {
          "base_uri": "https://localhost:8080/"
        },
        "id": "ik5MmMA_-yLx",
        "outputId": "062d746b-a71c-4ea6-8227-3f72d08ba566"
      },
      "execution_count": null,
      "outputs": [
        {
          "output_type": "stream",
          "name": "stdout",
          "text": [
            "ModeResult(mode=array([86]), count=array([3]))\n"
          ]
        }
      ]
    },
    {
      "cell_type": "markdown",
      "source": [
        "# Standard Deviation"
      ],
      "metadata": {
        "id": "lOuczxzr_2ip"
      }
    },
    {
      "cell_type": "code",
      "source": [
        "speed = [86,87,88,86,87,85,86]\n",
        "\n",
        "sd = np.std(speed)\n",
        "\n",
        "print(sd)"
      ],
      "metadata": {
        "colab": {
          "base_uri": "https://localhost:8080/"
        },
        "id": "jtdfuj2V_7Az",
        "outputId": "a5603a88-8d84-4003-d67e-a5f6872d7608"
      },
      "execution_count": null,
      "outputs": [
        {
          "output_type": "stream",
          "name": "stdout",
          "text": [
            "0.9035079029052513\n"
          ]
        }
      ]
    },
    {
      "cell_type": "markdown",
      "source": [
        "# Varience"
      ],
      "metadata": {
        "id": "a552RZPDAf_f"
      }
    },
    {
      "cell_type": "code",
      "source": [
        "# Import statistics Library\n",
        "import statistics\n",
        "\n",
        "# Calculate the variance from a sample of data\n",
        "print(statistics.variance([1, 3, 5, 7, 9, 11]))\n"
      ],
      "metadata": {
        "colab": {
          "base_uri": "https://localhost:8080/"
        },
        "id": "OpdMwEf3AjgV",
        "outputId": "adde88a1-c5fb-48d5-965f-1477b5733f1d"
      },
      "execution_count": null,
      "outputs": [
        {
          "output_type": "stream",
          "name": "stdout",
          "text": [
            "14\n"
          ]
        }
      ]
    }
  ]
}